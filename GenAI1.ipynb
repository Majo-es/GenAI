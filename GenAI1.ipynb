{
  "nbformat": 4,
  "nbformat_minor": 0,
  "metadata": {
    "colab": {
      "provenance": []
    },
    "kernelspec": {
      "name": "python3",
      "display_name": "Python 3"
    },
    "language_info": {
      "name": "python"
    }
  },
  "cells": [
    {
      "cell_type": "code",
      "execution_count": 1,
      "metadata": {
        "colab": {
          "base_uri": "https://localhost:8080/"
        },
        "id": "OyIEk3F8NAej",
        "outputId": "a3e660ca-0d54-4279-b7b7-db412afe2c97"
      },
      "outputs": [
        {
          "output_type": "stream",
          "name": "stdout",
          "text": [
            "Requirement already satisfied: nltk in /usr/local/lib/python3.10/dist-packages (3.9.1)\n",
            "Requirement already satisfied: numpy in /usr/local/lib/python3.10/dist-packages (1.26.4)\n",
            "Requirement already satisfied: click in /usr/local/lib/python3.10/dist-packages (from nltk) (8.1.7)\n",
            "Requirement already satisfied: joblib in /usr/local/lib/python3.10/dist-packages (from nltk) (1.4.2)\n",
            "Requirement already satisfied: regex>=2021.8.3 in /usr/local/lib/python3.10/dist-packages (from nltk) (2024.11.6)\n",
            "Requirement already satisfied: tqdm in /usr/local/lib/python3.10/dist-packages (from nltk) (4.67.1)\n"
          ]
        }
      ],
      "source": [
        "pip install nltk numpy"
      ]
    },
    {
      "cell_type": "code",
      "source": [
        "import nltk\n",
        "# Download the 'punkt_tab' data package\n",
        "nltk.download('punkt_tab')\n",
        "from nltk.tokenize import word_tokenize"
      ],
      "metadata": {
        "colab": {
          "base_uri": "https://localhost:8080/"
        },
        "id": "xJiOINNEQGqg",
        "outputId": "4e1664ac-0e9d-4285-9bcf-ca0360e0b56c"
      },
      "execution_count": 4,
      "outputs": [
        {
          "output_type": "stream",
          "name": "stderr",
          "text": [
            "[nltk_data] Downloading package punkt_tab to /root/nltk_data...\n",
            "[nltk_data]   Package punkt_tab is already up-to-date!\n"
          ]
        }
      ]
    },
    {
      "cell_type": "code",
      "source": [
        "# ‘Ode to a Nightingale’ by John Keats\n",
        "sample_text = 'My heart aches, and a drowsy numbness pains. My sense, as though of hemlock I had drunk, Or emptied some dull opiate to the drains. One minute past, and Lethe-wards had sunk.'\n",
        "tokens = word_tokenize(sample_text)\n",
        "\n",
        "print('Tokens:', tokens)"
      ],
      "metadata": {
        "colab": {
          "base_uri": "https://localhost:8080/"
        },
        "id": "TIrqFokOQgFz",
        "outputId": "8f40a4d9-882e-4b6e-aba2-72a3bcb2cc49"
      },
      "execution_count": 7,
      "outputs": [
        {
          "output_type": "stream",
          "name": "stdout",
          "text": [
            "Tokens: ['My', 'heart', 'aches', ',', 'and', 'a', 'drowsy', 'numbness', 'pains', '.', 'My', 'sense', ',', 'as', 'though', 'of', 'hemlock', 'I', 'had', 'drunk', ',', 'Or', 'emptied', 'some', 'dull', 'opiate', 'to', 'the', 'drains', '.', 'One', 'minute', 'past', ',', 'and', 'Lethe-wards', 'had', 'sunk', '.']\n"
          ]
        }
      ]
    }
  ]
}