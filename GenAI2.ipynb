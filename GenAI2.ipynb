{
  "nbformat": 4,
  "nbformat_minor": 0,
  "metadata": {
    "colab": {
      "provenance": []
    },
    "kernelspec": {
      "name": "python3",
      "display_name": "Python 3"
    },
    "language_info": {
      "name": "python"
    }
  },
  "cells": [
    {
      "cell_type": "code",
      "source": [
        "import nltk\n",
        "nltk.download('punkt_tab') # Download the punkt_tab resource.\n",
        "from nltk.tokenize import word_tokenize\n",
        "from nltk.util import ngrams\n",
        "\n",
        "sample_text = \"It is a truth universally acknowledged, that a single man in possession of a good fortune, must be in want of a wife.\"\n",
        "tokens = word_tokenize(sample_text)"
      ],
      "metadata": {
        "colab": {
          "base_uri": "https://localhost:8080/"
        },
        "id": "xJiOINNEQGqg",
        "outputId": "950b23f0-2c22-4b6e-84f2-4e59698409d9"
      },
      "execution_count": 4,
      "outputs": [
        {
          "output_type": "stream",
          "name": "stderr",
          "text": [
            "[nltk_data] Downloading package punkt_tab to /root/nltk_data...\n",
            "[nltk_data]   Unzipping tokenizers/punkt_tab.zip.\n"
          ]
        }
      ]
    },
    {
      "cell_type": "code",
      "source": [
        "# Unigram\n",
        "unigrams = list(ngrams(tokens, 1))\n",
        "print('Unigrams:', unigrams)\n",
        "\n",
        "# Bigram\n",
        "bigrams = list(ngrams(tokens, 2))\n",
        "print('Bigrams:', bigrams)\n",
        "\n",
        "# Trigram\n",
        "trigrams = list(ngrams(tokens, 3))\n",
        "print('Trigrams:', trigrams)"
      ],
      "metadata": {
        "colab": {
          "base_uri": "https://localhost:8080/"
        },
        "id": "TIrqFokOQgFz",
        "outputId": "a656ef80-7d0f-45de-8c80-2f16c9b4991f"
      },
      "execution_count": 5,
      "outputs": [
        {
          "output_type": "stream",
          "name": "stdout",
          "text": [
            "Unigrams: [('It',), ('is',), ('a',), ('truth',), ('universally',), ('acknowledged',), (',',), ('that',), ('a',), ('single',), ('man',), ('in',), ('possession',), ('of',), ('a',), ('good',), ('fortune',), (',',), ('must',), ('be',), ('in',), ('want',), ('of',), ('a',), ('wife',), ('.',)]\n",
            "Bigrams: [('It', 'is'), ('is', 'a'), ('a', 'truth'), ('truth', 'universally'), ('universally', 'acknowledged'), ('acknowledged', ','), (',', 'that'), ('that', 'a'), ('a', 'single'), ('single', 'man'), ('man', 'in'), ('in', 'possession'), ('possession', 'of'), ('of', 'a'), ('a', 'good'), ('good', 'fortune'), ('fortune', ','), (',', 'must'), ('must', 'be'), ('be', 'in'), ('in', 'want'), ('want', 'of'), ('of', 'a'), ('a', 'wife'), ('wife', '.')]\n",
            "Trigrams: [('It', 'is', 'a'), ('is', 'a', 'truth'), ('a', 'truth', 'universally'), ('truth', 'universally', 'acknowledged'), ('universally', 'acknowledged', ','), ('acknowledged', ',', 'that'), (',', 'that', 'a'), ('that', 'a', 'single'), ('a', 'single', 'man'), ('single', 'man', 'in'), ('man', 'in', 'possession'), ('in', 'possession', 'of'), ('possession', 'of', 'a'), ('of', 'a', 'good'), ('a', 'good', 'fortune'), ('good', 'fortune', ','), ('fortune', ',', 'must'), (',', 'must', 'be'), ('must', 'be', 'in'), ('be', 'in', 'want'), ('in', 'want', 'of'), ('want', 'of', 'a'), ('of', 'a', 'wife'), ('a', 'wife', '.')]\n"
          ]
        }
      ]
    }
  ]
}